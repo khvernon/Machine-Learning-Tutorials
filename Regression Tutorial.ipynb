{
 "cells": [
  {
   "cell_type": "code",
   "execution_count": 190,
   "metadata": {},
   "outputs": [],
   "source": [
    "import quandl, math\n",
    "import datetime\n",
    "import pandas as pd\n",
    "import numpy as np\n",
    "import matplotlib.pyplot as plt\n",
    "from matplotlib import style\n",
    "from sklearn import preprocessing, cross_validation, svm\n",
    "from sklearn.linear_model import LinearRegression\n",
    "\n",
    "df = quandl.get(\"WIKI/GOOGL\")"
   ]
  },
  {
   "cell_type": "code",
   "execution_count": 191,
   "metadata": {},
   "outputs": [],
   "source": [
    "df = df[['Adj. Open', 'Adj. High', 'Adj. Low', 'Adj. Close', 'Adj. Volume']] "
   ]
  },
  {
   "cell_type": "code",
   "execution_count": 192,
   "metadata": {},
   "outputs": [],
   "source": [
    "df['HL_PCT'] = (df['Adj. High'] - df['Adj. Low'])/df['Adj. Low'] * 100\n"
   ]
  },
  {
   "cell_type": "code",
   "execution_count": 193,
   "metadata": {},
   "outputs": [],
   "source": [
    "df['PCT_change'] = (df['Adj. Close'] - df['Adj. Open'])/df['Adj. Open'] * 100"
   ]
  },
  {
   "cell_type": "code",
   "execution_count": 194,
   "metadata": {},
   "outputs": [],
   "source": [
    "df = df[['Adj. Close', 'HL_PCT', 'PCT_change', 'Adj. Volume']]"
   ]
  },
  {
   "cell_type": "code",
   "execution_count": 195,
   "metadata": {},
   "outputs": [],
   "source": [
    "forcast_col = 'Adj. Close'\n",
    "df.fillna(-99999, inplace=True)\n",
    "\n",
    "forecast_out = int(math.ceil(0.01 * len(df)))\n",
    "\n",
    "df['Label'] = df[forcast_col].shift(-forcast_out)"
   ]
  },
  {
   "cell_type": "code",
   "execution_count": 196,
   "metadata": {
    "scrolled": false
   },
   "outputs": [
    {
     "name": "stdout",
     "output_type": "stream",
     "text": [
      "            Adj. Close    HL_PCT  PCT_change  Adj. Volume   Label\n",
      "Date                                                             \n",
      "2017-05-08      958.69  1.434988    1.186342    1863198.0  986.09\n",
      "2017-05-09      956.71  0.817267   -0.480584    1633396.0  972.09\n",
      "2017-05-10      954.84  0.723280   -0.144318    1135809.0     NaN\n",
      "2017-05-11      955.89  0.988815    0.483554    1016797.0     NaN\n",
      "2017-05-12      955.14  0.621810   -0.282925    1204133.0     NaN\n",
      "2017-05-15      959.22  1.036922    0.411393    1314574.0     NaN\n",
      "2017-05-16      964.61  0.577446    0.110010    1069898.0     NaN\n",
      "2017-05-17      942.17  2.226454   -1.826612    2414323.0     NaN\n",
      "2017-05-18      950.50  1.371551    0.773961    1758452.0     NaN\n",
      "2017-05-19      954.65  0.794118    0.192061    1327354.0     NaN\n",
      "2017-05-22      964.07  0.863511    0.738767    1305246.0     NaN\n",
      "2017-05-23      970.55  1.037843    0.060827    1529617.0     NaN\n",
      "2017-05-24      977.61  0.667445    0.240961    1128880.0     NaN\n",
      "2017-05-25      991.86  1.836739    1.313585    1951402.0     NaN\n",
      "2017-05-26      993.27  0.914560    0.128024    1622807.0     NaN\n",
      "2017-05-30      996.17  0.631446    0.369773    1511472.0     NaN\n",
      "2017-05-31      987.09  1.825442   -0.915470    1703990.0     NaN\n",
      "2017-06-01      988.29  1.207594   -0.269436    1295552.0     NaN\n",
      "2017-06-02      996.12  0.953327    0.761691    1719720.0     NaN\n",
      "2017-06-05     1003.88  1.200462    0.600267    1353264.0     NaN\n",
      "2017-06-06      996.68  1.388219   -0.660813    1517356.0     NaN\n",
      "2017-06-07     1001.59  0.813408    0.277327    1348198.0     NaN\n",
      "2017-06-08     1004.28  0.901046    0.004979    1657881.0     NaN\n",
      "2017-06-09      970.12  5.467972   -3.517688    3613964.0     NaN\n",
      "2017-06-12      961.81  3.331038    0.322305    4167184.0     NaN\n",
      "2017-06-13      970.50  1.652789   -0.158430    1992456.0     NaN\n",
      "2017-06-14      967.93  2.104167   -0.776012    1489046.0     NaN\n",
      "2017-06-15      960.18  2.159522    1.282673    2349212.0     NaN\n",
      "2017-06-16      958.62  1.185833    0.074120    2484914.0     NaN\n",
      "2017-06-19      975.22  1.146457    0.574434    1449343.0     NaN\n",
      "2017-06-20      968.99  1.300351   -0.647999    1273013.0     NaN\n",
      "2017-06-21      978.59  1.084444    0.803469    1141315.0     NaN\n",
      "2017-06-22      976.62  0.738220   -0.025592     940086.0     NaN\n",
      "2017-06-23      986.09  1.247871    1.085597    1439728.0     NaN\n",
      "2017-06-26      972.09  2.438346   -1.809091    1505655.0     NaN\n",
      "            Adj. Close    HL_PCT  PCT_change  Adj. Volume    Label\n",
      "Date                                                              \n",
      "2017-03-21     850.140  3.041571   -2.289497    2537978.0   958.69\n",
      "2017-03-22     849.800  0.985832    0.037670    1366749.0   956.71\n",
      "2017-03-23     839.650  1.043217   -0.206801    3287669.0   954.84\n",
      "2017-03-24     835.140  1.797129   -0.814727    2105682.0   955.89\n",
      "2017-03-27     838.510  2.072061    1.258317    1935211.0   955.14\n",
      "2017-03-28     840.630  1.578223    0.111946    1519202.0   959.22\n",
      "2017-03-29     849.870  1.212888    0.844853    1457347.0   964.61\n",
      "2017-03-30     849.480  0.617641   -0.293434     949398.0   942.17\n",
      "2017-03-31     847.800  0.510562    0.114545    1440982.0   950.50\n",
      "2017-04-03     856.750  1.353368    0.942563    1969402.0   954.65\n",
      "2017-04-04     852.570  0.648374    0.538915    1348494.0   964.07\n",
      "2017-04-05     848.910  1.542146   -0.678593    1855153.0   970.55\n",
      "2017-04-06     845.095  1.136256   -0.518540    1533564.0   977.61\n",
      "2017-04-07     842.100  1.024722   -0.343195    1110404.0   991.86\n",
      "2017-04-10     841.700  0.707335    0.019013    1046215.0   993.27\n",
      "2017-04-11     839.880  1.201773   -0.216229     974343.0   996.17\n",
      "2017-04-12     841.460  0.731862    0.357799    1135775.0   987.09\n",
      "2017-04-13     840.180  0.701760   -0.102254    1073650.0   988.29\n",
      "2017-04-17     855.130  1.737156    1.634220    1049125.0   996.12\n",
      "2017-04-18     853.990  0.721292    0.170080     936201.0  1003.88\n",
      "2017-04-19     856.510  0.781756   -0.102055    1080336.0   996.68\n",
      "2017-04-20     860.080  0.749854    0.039547    1188843.0  1001.59\n",
      "2017-04-21     858.950  0.549124   -0.194046    1172870.0  1004.28\n",
      "2017-04-24     878.930  1.599104    1.207913    1691896.0   970.12\n",
      "2017-04-25     888.840  1.475059    0.745812    2020460.0   961.81\n",
      "2017-04-26     889.140  0.885726   -0.252415    1302032.0   970.50\n",
      "2017-04-27     891.440  0.698550    0.161798    1817740.0   967.93\n",
      "2017-04-28     924.520  1.373454   -0.482239    3753169.0   960.18\n",
      "2017-05-01     932.820  1.631190    0.938159    2294856.0   958.62\n",
      "2017-05-02     937.090  1.287325    0.409313    1745453.0   975.22\n",
      "2017-05-03     948.450  1.602849    1.324716    1792847.0   968.99\n",
      "2017-05-04     954.720  1.242387    0.466173    1934652.0   978.59\n",
      "2017-05-05     950.280  1.090699   -0.673133    1593898.0   976.62\n",
      "2017-05-08     958.690  1.434988    1.186342    1863198.0   986.09\n",
      "2017-05-09     956.710  0.817267   -0.480584    1633396.0   972.09\n",
      "[  974.59039269   975.62425628   974.93951962   978.83440414   984.75698696\n",
      "   959.04666915   969.66611361   974.40454585   984.07377378   990.09696318\n",
      "   997.8356921   1011.11668616  1013.21819628  1016.60367764  1005.47182646\n",
      "  1007.76170014  1016.28579726  1023.86904699  1015.82452812  1021.87505862\n",
      "  1024.308876     982.57091167   978.05970548   989.13141752   985.88204716\n",
      "   978.59919976   977.63577246   994.91839778   987.99202874   998.56462438\n",
      "   996.6911063   1005.99928954   989.2813004 ] 0.973521529527 33\n"
     ]
    }
   ],
   "source": [
    "X = np.array(df.drop(['Label'], 1))\n",
    "\n",
    "X = preprocessing.scale(X)\n",
    "\n",
    "X_lately = X[-forecast_out:]\n",
    "X = X[:-forecast_out]\n",
    "df.dropna(inplace=True)\n",
    "y = np.array(df['Label'])\n",
    "\n",
    "X_train, X_test, y_train, y_test = cross_validation.train_test_split(X, y, test_size=0.2)\n",
    "\n",
    "clf = LinearRegression()\n",
    "clf.fit(X_train, y_train)\n",
    "confidence = clf.score(X_test, y_test)\n",
    "\n",
    "forecast_set = clf.predict(X_lately)\n",
    "\n",
    "#print(forecast_set, confidence, forecast_out)"
   ]
  },
  {
   "cell_type": "code",
   "execution_count": 197,
   "metadata": {},
   "outputs": [],
   "source": [
    "style.use('ggplot')\n",
    "\n",
    "df['Forecast'] = np.nan\n",
    "\n",
    "last_date = df.iloc[-1].name\n",
    "last_unix = last_date.timestamp()\n",
    "one_day = 86400\n",
    "next_unix = last_unix + one_day\n",
    "\n",
    "for i in forecast_set:\n",
    "    next_date = datetime.datetime.fromtimestamp(next_unix)\n",
    "    next_unix += 86400\n",
    "    df.loc[next_date] = [np.nan for _ in range(len(df.columns) - 1)] + [i]\n"
   ]
  },
  {
   "cell_type": "code",
   "execution_count": 198,
   "metadata": {},
   "outputs": [
    {
     "data": {
      "image/png": "[encoded data removed]",
      "text/plain": [
       "<matplotlib.figure.Figure at 0x7f3fc22aeb70>"
      ]
     },
     "metadata": {},
     "output_type": "display_data"
    }
   ],
   "source": [
    "df['Adj. Close'].plot()\n",
    "df['Forecast'].plot()\n",
    "plt.legend(loc=4)\n",
    "plt.xlabel('Date')\n",
    "plt.ylabel('Price')\n",
    "\n",
    "plt.show()\n"
   ]
  },
  {
   "cell_type": "code",
   "execution_count": null,
   "metadata": {
    "collapsed": true
   },
   "outputs": [],
   "source": []
  }
 ],
 "metadata": {
  "kernelspec": {
   "display_name": "Python 3",
   "language": "python",
   "name": "python3"
  },
  "language_info": {
   "codemirror_mode": {
    "name": "ipython",
    "version": 3
   },
   "file_extension": ".py",
   "mimetype": "text/x-python",
   "name": "python",
   "nbconvert_exporter": "python",
   "pygments_lexer": "ipython3",
   "version": "3.5.3"
  }
 },
 "nbformat": 4,
 "nbformat_minor": 2
}
